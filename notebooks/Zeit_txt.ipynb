{
 "cells": [
  {
   "cell_type": "markdown",
   "metadata": {},
   "source": [
    "# Loading \"Politik\"- text data in a DataFrame"
   ]
  },
  {
   "cell_type": "code",
   "execution_count": 1,
   "metadata": {},
   "outputs": [],
   "source": [
    "import pandas as pd\n",
    "import numpy as np\n",
    "import os\n",
    "from pathlib import Path\n",
    "import glob\n",
    "import re"
   ]
  },
  {
   "cell_type": "code",
   "execution_count": 2,
   "metadata": {},
   "outputs": [],
   "source": [
    "paths = Path(\"entpackt/\").glob(\"*/Politik/*.txt\")\n",
    "# sample = list(paths)[0]"
   ]
  },
  {
   "cell_type": "code",
   "execution_count": 3,
   "metadata": {},
   "outputs": [],
   "source": [
    "path = (r\"C:\\Users\\vAudience\\Documents\\Zeit\\entpackt\")"
   ]
  },
  {
   "cell_type": "code",
   "execution_count": 4,
   "metadata": {},
   "outputs": [],
   "source": [
    "#path_text = (r'C:\\Users\\vAudience\\Documents\\Zeit\\entpackt\\1946\\Politik\\*.txt')"
   ]
  },
  {
   "cell_type": "code",
   "execution_count": 5,
   "metadata": {},
   "outputs": [],
   "source": [
    "filenames = []\n",
    "for subdirname in glob.glob(os.path.join(path, '*')):\n",
    "    if os.path.isdir(subdirname):\n",
    "        for filename in glob.glob(os.path.join(subdirname, 'Politik', '*')):\n",
    "             if os.path.isfile(filename):\n",
    "                filenames.append(filename)\n",
    "                #print(filename)"
   ]
  },
  {
   "cell_type": "code",
   "execution_count": 57,
   "metadata": {},
   "outputs": [],
   "source": [
    "def extract_metadata(filename: str):\n",
    "    try:\n",
    "        title, year = filename.split(\"\\\\\")[-1].strip(\".txt\").split(\"#\")\n",
    "        return {\n",
    "            \"title\": \"_\".join(title.split(\"_\")[:-1]),\n",
    "            \"year\": year,\n",
    "            \"number\": title.split(\"_\")[-1]\n",
    "        }\n",
    "    except:\n",
    "        return {}"
   ]
  },
  {
   "cell_type": "code",
   "execution_count": 58,
   "metadata": {},
   "outputs": [],
   "source": [
    "list_of_text = []\n",
    "for filename in list(paths):\n",
    "    with filename.open(\"r\", encoding=\"utf-8\") as f:\n",
    "        text = f.read()\n",
    "    \n",
    "    data = {\"text\": text}\n",
    "    data.update(extract_metadata(str(filename)))\n",
    "    list_of_text.append(data)"
   ]
  },
  {
   "cell_type": "code",
   "execution_count": 59,
   "metadata": {},
   "outputs": [
    {
     "data": {
      "text/plain": [
       "80381"
      ]
     },
     "execution_count": 59,
     "metadata": {},
     "output_type": "execute_result"
    }
   ],
   "source": [
    "len(list_of_text)"
   ]
  },
  {
   "cell_type": "code",
   "execution_count": 60,
   "metadata": {},
   "outputs": [
    {
     "data": {
      "text/html": [
       "<div>\n",
       "<style scoped>\n",
       "    .dataframe tbody tr th:only-of-type {\n",
       "        vertical-align: middle;\n",
       "    }\n",
       "\n",
       "    .dataframe tbody tr th {\n",
       "        vertical-align: top;\n",
       "    }\n",
       "\n",
       "    .dataframe thead th {\n",
       "        text-align: right;\n",
       "    }\n",
       "</style>\n",
       "<table border=\"1\" class=\"dataframe\">\n",
       "  <thead>\n",
       "    <tr style=\"text-align: right;\">\n",
       "      <th></th>\n",
       "      <th>text</th>\n",
       "      <th>title</th>\n",
       "      <th>year</th>\n",
       "      <th>number</th>\n",
       "    </tr>\n",
       "  </thead>\n",
       "  <tbody>\n",
       "    <tr>\n",
       "      <th>0</th>\n",
       "      <td>Es waren kaum zwei Wochen nach dem Tod Friedri...</td>\n",
       "      <td>100_Jahre_Hamburg-Berlin</td>\n",
       "      <td>1946</td>\n",
       "      <td>nr1199</td>\n",
       "    </tr>\n",
       "    <tr>\n",
       "      <th>1</th>\n",
       "      <td>Aufstellungen über Welternte, Weltbedarf und W...</td>\n",
       "      <td>1800_Kalorien...</td>\n",
       "      <td>1946</td>\n",
       "      <td>nr5674</td>\n",
       "    </tr>\n",
       "    <tr>\n",
       "      <th>2</th>\n",
       "      <td>Die gegenwärtige Industrieproduktion in der am...</td>\n",
       "      <td>20_v._H._Kapazitätsausnutzung</td>\n",
       "      <td>1946</td>\n",
       "      <td>nr6365</td>\n",
       "    </tr>\n",
       "    <tr>\n",
       "      <th>3</th>\n",
       "      <td>Die Potsdamer. Beschlüsse der Sieger haben das...</td>\n",
       "      <td>74_Millionen_in_4_Zonen</td>\n",
       "      <td>1946</td>\n",
       "      <td>nr2437</td>\n",
       "    </tr>\n",
       "    <tr>\n",
       "      <th>4</th>\n",
       "      <td>Weltgrund Einsamkeiten,\\n\\nBin wieder bei euch...</td>\n",
       "      <td>Abendlied_im_Wald</td>\n",
       "      <td>1946</td>\n",
       "      <td>nr747</td>\n",
       "    </tr>\n",
       "    <tr>\n",
       "      <th>...</th>\n",
       "      <td>...</td>\n",
       "      <td>...</td>\n",
       "      <td>...</td>\n",
       "      <td>...</td>\n",
       "    </tr>\n",
       "    <tr>\n",
       "      <th>80376</th>\n",
       "      <td>In Kiew versuchen Polizeibeamte, in das Kranke...</td>\n",
       "      <td>Ärzte_schützten_Bulatow_vor_der_Polizei</td>\n",
       "      <td>2014</td>\n",
       "      <td>nr82</td>\n",
       "    </tr>\n",
       "    <tr>\n",
       "      <th>80377</th>\n",
       "      <td>Die Mehrheit der Deutschen befürwortet aktive ...</td>\n",
       "      <td>Ärzte_und_Kirche_gegen_aktive_Sterbehilfe</td>\n",
       "      <td>2014</td>\n",
       "      <td>nr1085</td>\n",
       "    </tr>\n",
       "    <tr>\n",
       "      <th>80378</th>\n",
       "      <td>Alarm beim Bundesheer. 46 Prozent der Rekruten...</td>\n",
       "      <td>Überfordert</td>\n",
       "      <td>2014</td>\n",
       "      <td>nr6081</td>\n",
       "    </tr>\n",
       "    <tr>\n",
       "      <th>80379</th>\n",
       "      <td>Am Sonntag wurde in Hamburg Helmut Schmidts 95...</td>\n",
       "      <td>Überheblichkeit_gegen_China_wäre_ein_Fehler</td>\n",
       "      <td>2014</td>\n",
       "      <td>nr2347</td>\n",
       "    </tr>\n",
       "    <tr>\n",
       "      <th>80380</th>\n",
       "      <td>Ausgerechnet Odessa. Eine weltoffene, tolerant...</td>\n",
       "      <td>Über_Nacht_kam_die_Angst_nach_Odessa</td>\n",
       "      <td>2014</td>\n",
       "      <td>nr1123</td>\n",
       "    </tr>\n",
       "  </tbody>\n",
       "</table>\n",
       "<p>80381 rows × 4 columns</p>\n",
       "</div>"
      ],
      "text/plain": [
       "                                                    text  \\\n",
       "0      Es waren kaum zwei Wochen nach dem Tod Friedri...   \n",
       "1      Aufstellungen über Welternte, Weltbedarf und W...   \n",
       "2      Die gegenwärtige Industrieproduktion in der am...   \n",
       "3      Die Potsdamer. Beschlüsse der Sieger haben das...   \n",
       "4      Weltgrund Einsamkeiten,\\n\\nBin wieder bei euch...   \n",
       "...                                                  ...   \n",
       "80376  In Kiew versuchen Polizeibeamte, in das Kranke...   \n",
       "80377  Die Mehrheit der Deutschen befürwortet aktive ...   \n",
       "80378  Alarm beim Bundesheer. 46 Prozent der Rekruten...   \n",
       "80379  Am Sonntag wurde in Hamburg Helmut Schmidts 95...   \n",
       "80380  Ausgerechnet Odessa. Eine weltoffene, tolerant...   \n",
       "\n",
       "                                             title  year  number  \n",
       "0                         100_Jahre_Hamburg-Berlin  1946  nr1199  \n",
       "1                                 1800_Kalorien...  1946  nr5674  \n",
       "2                    20_v._H._Kapazitätsausnutzung  1946  nr6365  \n",
       "3                          74_Millionen_in_4_Zonen  1946  nr2437  \n",
       "4                                Abendlied_im_Wald  1946   nr747  \n",
       "...                                            ...   ...     ...  \n",
       "80376      Ärzte_schützten_Bulatow_vor_der_Polizei  2014    nr82  \n",
       "80377    Ärzte_und_Kirche_gegen_aktive_Sterbehilfe  2014  nr1085  \n",
       "80378                                  Überfordert  2014  nr6081  \n",
       "80379  Überheblichkeit_gegen_China_wäre_ein_Fehler  2014  nr2347  \n",
       "80380         Über_Nacht_kam_die_Angst_nach_Odessa  2014  nr1123  \n",
       "\n",
       "[80381 rows x 4 columns]"
      ]
     },
     "execution_count": 60,
     "metadata": {},
     "output_type": "execute_result"
    }
   ],
   "source": [
    "df = pd.DataFrame(list_of_text)\n",
    "df"
   ]
  },
  {
   "cell_type": "code",
   "execution_count": 61,
   "metadata": {},
   "outputs": [],
   "source": [
    "#df.to_csv(\"dataframe_texts.csv\", encoding=\"utf-8\")"
   ]
  },
  {
   "cell_type": "markdown",
   "metadata": {},
   "source": [
    "## Testing the existing of all meta data"
   ]
  },
  {
   "cell_type": "code",
   "execution_count": 6,
   "metadata": {},
   "outputs": [],
   "source": [
    "df = pd.read_csv(\"dataframe_texts.csv\", encoding=\"utf-8\", index_col=0)"
   ]
  },
  {
   "cell_type": "code",
   "execution_count": 14,
   "metadata": {},
   "outputs": [
    {
     "data": {
      "text/html": [
       "<div>\n",
       "<style scoped>\n",
       "    .dataframe tbody tr th:only-of-type {\n",
       "        vertical-align: middle;\n",
       "    }\n",
       "\n",
       "    .dataframe tbody tr th {\n",
       "        vertical-align: top;\n",
       "    }\n",
       "\n",
       "    .dataframe thead th {\n",
       "        text-align: right;\n",
       "    }\n",
       "</style>\n",
       "<table border=\"1\" class=\"dataframe\">\n",
       "  <thead>\n",
       "    <tr style=\"text-align: right;\">\n",
       "      <th></th>\n",
       "      <th>text</th>\n",
       "      <th>title</th>\n",
       "      <th>year</th>\n",
       "      <th>number</th>\n",
       "    </tr>\n",
       "  </thead>\n",
       "  <tbody>\n",
       "    <tr>\n",
       "      <th>0</th>\n",
       "      <td>Es waren kaum zwei Wochen nach dem Tod Friedri...</td>\n",
       "      <td>100_Jahre_Hamburg-Berlin</td>\n",
       "      <td>1946.0</td>\n",
       "      <td>nr1199</td>\n",
       "    </tr>\n",
       "    <tr>\n",
       "      <th>1</th>\n",
       "      <td>Aufstellungen über Welternte, Weltbedarf und W...</td>\n",
       "      <td>1800_Kalorien...</td>\n",
       "      <td>1946.0</td>\n",
       "      <td>nr5674</td>\n",
       "    </tr>\n",
       "    <tr>\n",
       "      <th>2</th>\n",
       "      <td>Die gegenwärtige Industrieproduktion in der am...</td>\n",
       "      <td>20_v._H._Kapazitätsausnutzung</td>\n",
       "      <td>1946.0</td>\n",
       "      <td>nr6365</td>\n",
       "    </tr>\n",
       "    <tr>\n",
       "      <th>3</th>\n",
       "      <td>Die Potsdamer. Beschlüsse der Sieger haben das...</td>\n",
       "      <td>74_Millionen_in_4_Zonen</td>\n",
       "      <td>1946.0</td>\n",
       "      <td>nr2437</td>\n",
       "    </tr>\n",
       "    <tr>\n",
       "      <th>4</th>\n",
       "      <td>Weltgrund Einsamkeiten,\\n\\nBin wieder bei euch...</td>\n",
       "      <td>Abendlied_im_Wald</td>\n",
       "      <td>1946.0</td>\n",
       "      <td>nr747</td>\n",
       "    </tr>\n",
       "    <tr>\n",
       "      <th>...</th>\n",
       "      <td>...</td>\n",
       "      <td>...</td>\n",
       "      <td>...</td>\n",
       "      <td>...</td>\n",
       "    </tr>\n",
       "    <tr>\n",
       "      <th>80376</th>\n",
       "      <td>In Kiew versuchen Polizeibeamte, in das Kranke...</td>\n",
       "      <td>Ärzte_schützten_Bulatow_vor_der_Polizei</td>\n",
       "      <td>2014.0</td>\n",
       "      <td>nr82</td>\n",
       "    </tr>\n",
       "    <tr>\n",
       "      <th>80377</th>\n",
       "      <td>Die Mehrheit der Deutschen befürwortet aktive ...</td>\n",
       "      <td>Ärzte_und_Kirche_gegen_aktive_Sterbehilfe</td>\n",
       "      <td>2014.0</td>\n",
       "      <td>nr1085</td>\n",
       "    </tr>\n",
       "    <tr>\n",
       "      <th>80378</th>\n",
       "      <td>Alarm beim Bundesheer. 46 Prozent der Rekruten...</td>\n",
       "      <td>Überfordert</td>\n",
       "      <td>2014.0</td>\n",
       "      <td>nr6081</td>\n",
       "    </tr>\n",
       "    <tr>\n",
       "      <th>80379</th>\n",
       "      <td>Am Sonntag wurde in Hamburg Helmut Schmidts 95...</td>\n",
       "      <td>Überheblichkeit_gegen_China_wäre_ein_Fehler</td>\n",
       "      <td>2014.0</td>\n",
       "      <td>nr2347</td>\n",
       "    </tr>\n",
       "    <tr>\n",
       "      <th>80380</th>\n",
       "      <td>Ausgerechnet Odessa. Eine weltoffene, tolerant...</td>\n",
       "      <td>Über_Nacht_kam_die_Angst_nach_Odessa</td>\n",
       "      <td>2014.0</td>\n",
       "      <td>nr1123</td>\n",
       "    </tr>\n",
       "  </tbody>\n",
       "</table>\n",
       "<p>80381 rows × 4 columns</p>\n",
       "</div>"
      ],
      "text/plain": [
       "                                                    text  \\\n",
       "0      Es waren kaum zwei Wochen nach dem Tod Friedri...   \n",
       "1      Aufstellungen über Welternte, Weltbedarf und W...   \n",
       "2      Die gegenwärtige Industrieproduktion in der am...   \n",
       "3      Die Potsdamer. Beschlüsse der Sieger haben das...   \n",
       "4      Weltgrund Einsamkeiten,\\n\\nBin wieder bei euch...   \n",
       "...                                                  ...   \n",
       "80376  In Kiew versuchen Polizeibeamte, in das Kranke...   \n",
       "80377  Die Mehrheit der Deutschen befürwortet aktive ...   \n",
       "80378  Alarm beim Bundesheer. 46 Prozent der Rekruten...   \n",
       "80379  Am Sonntag wurde in Hamburg Helmut Schmidts 95...   \n",
       "80380  Ausgerechnet Odessa. Eine weltoffene, tolerant...   \n",
       "\n",
       "                                             title    year  number  \n",
       "0                         100_Jahre_Hamburg-Berlin  1946.0  nr1199  \n",
       "1                                 1800_Kalorien...  1946.0  nr5674  \n",
       "2                    20_v._H._Kapazitätsausnutzung  1946.0  nr6365  \n",
       "3                          74_Millionen_in_4_Zonen  1946.0  nr2437  \n",
       "4                                Abendlied_im_Wald  1946.0   nr747  \n",
       "...                                            ...     ...     ...  \n",
       "80376      Ärzte_schützten_Bulatow_vor_der_Polizei  2014.0    nr82  \n",
       "80377    Ärzte_und_Kirche_gegen_aktive_Sterbehilfe  2014.0  nr1085  \n",
       "80378                                  Überfordert  2014.0  nr6081  \n",
       "80379  Überheblichkeit_gegen_China_wäre_ein_Fehler  2014.0  nr2347  \n",
       "80380         Über_Nacht_kam_die_Angst_nach_Odessa  2014.0  nr1123  \n",
       "\n",
       "[80381 rows x 4 columns]"
      ]
     },
     "execution_count": 14,
     "metadata": {},
     "output_type": "execute_result"
    }
   ],
   "source": [
    "df"
   ]
  },
  {
   "cell_type": "code",
   "execution_count": 16,
   "metadata": {},
   "outputs": [],
   "source": [
    "samples = []\n",
    "\n",
    "for i in range(100):\n",
    "    samples.append(df.sample(100))"
   ]
  },
  {
   "cell_type": "code",
   "execution_count": 28,
   "metadata": {},
   "outputs": [
    {
     "data": {
      "text/html": [
       "<div>\n",
       "<style scoped>\n",
       "    .dataframe tbody tr th:only-of-type {\n",
       "        vertical-align: middle;\n",
       "    }\n",
       "\n",
       "    .dataframe tbody tr th {\n",
       "        vertical-align: top;\n",
       "    }\n",
       "\n",
       "    .dataframe thead th {\n",
       "        text-align: right;\n",
       "    }\n",
       "</style>\n",
       "<table border=\"1\" class=\"dataframe\">\n",
       "  <thead>\n",
       "    <tr style=\"text-align: right;\">\n",
       "      <th></th>\n",
       "      <th>text</th>\n",
       "      <th>title</th>\n",
       "      <th>year</th>\n",
       "      <th>number</th>\n",
       "    </tr>\n",
       "  </thead>\n",
       "  <tbody>\n",
       "    <tr>\n",
       "      <th>72461</th>\n",
       "      <td>Für die CDU war die Sache glasklar: Knapp eine...</td>\n",
       "      <td>NaN</td>\n",
       "      <td>NaN</td>\n",
       "      <td>NaN</td>\n",
       "    </tr>\n",
       "    <tr>\n",
       "      <th>73138</th>\n",
       "      <td>NaN</td>\n",
       "      <td>NaN</td>\n",
       "      <td>NaN</td>\n",
       "      <td>NaN</td>\n",
       "    </tr>\n",
       "    <tr>\n",
       "      <th>75515</th>\n",
       "      <td>Der Moderator verspricht der Menge Blut. Sandr...</td>\n",
       "      <td>NaN</td>\n",
       "      <td>NaN</td>\n",
       "      <td>NaN</td>\n",
       "    </tr>\n",
       "    <tr>\n",
       "      <th>78495</th>\n",
       "      <td>\"Sie könnten ein Dirndl auch ausfüllen.\" Genau...</td>\n",
       "      <td>NaN</td>\n",
       "      <td>NaN</td>\n",
       "      <td>NaN</td>\n",
       "    </tr>\n",
       "  </tbody>\n",
       "</table>\n",
       "</div>"
      ],
      "text/plain": [
       "                                                    text title  year number\n",
       "72461  Für die CDU war die Sache glasklar: Knapp eine...   NaN   NaN    NaN\n",
       "73138                                                NaN   NaN   NaN    NaN\n",
       "75515  Der Moderator verspricht der Menge Blut. Sandr...   NaN   NaN    NaN\n",
       "78495  \"Sie könnten ein Dirndl auch ausfüllen.\" Genau...   NaN   NaN    NaN"
      ]
     },
     "execution_count": 28,
     "metadata": {},
     "output_type": "execute_result"
    }
   ],
   "source": [
    "df[df[\"year\"].isna()]"
   ]
  },
  {
   "cell_type": "markdown",
   "metadata": {},
   "source": [
    "## Saving only texts with full existing Meta Data"
   ]
  },
  {
   "cell_type": "code",
   "execution_count": 30,
   "metadata": {},
   "outputs": [],
   "source": [
    "df_clean = df[~df.isna().any(axis=1)]"
   ]
  },
  {
   "cell_type": "code",
   "execution_count": 32,
   "metadata": {},
   "outputs": [],
   "source": [
    "# df_clean.to_csv(\"dataframe_texts_clean.csv\", encoding=\"utf-8\")"
   ]
  },
  {
   "cell_type": "markdown",
   "metadata": {},
   "source": [
    "## Testing Amount of Words"
   ]
  },
  {
   "cell_type": "code",
   "execution_count": 2,
   "metadata": {},
   "outputs": [],
   "source": [
    "df_clean = pd.read_csv(\"dataframe_texts_clean.csv\", encoding=\"utf-8\", index_col=0)"
   ]
  },
  {
   "cell_type": "code",
   "execution_count": 16,
   "metadata": {},
   "outputs": [],
   "source": [
    "\n",
    "df_clean[\"words\"] = df_clean[\"text\"].apply(lambda x: x.replace(\"\\n\", \" \").lower().split())"
   ]
  },
  {
   "cell_type": "code",
   "execution_count": 17,
   "metadata": {},
   "outputs": [],
   "source": [
    "df_clean[\"words\"] = df_clean[\"words\"].apply(lambda x: set(x))"
   ]
  },
  {
   "cell_type": "code",
   "execution_count": 18,
   "metadata": {},
   "outputs": [
    {
     "data": {
      "text/plain": [
       "0        {tod, menschlichen, 41, geschwindigkeiten., ha...\n",
       "1        {demselben, drückenden, nominell, hamburg,, ve...\n",
       "2        {ganzen, konnten, knappheit, kohle, 13, bestän...\n",
       "3        {zudem, 1939), industrieländer, prozeß, berlin...\n",
       "4        {glanz, muß., horch, gründe, haus,, hinab, ich...\n",
       "                               ...                        \n",
       "80376    {\"ich, russischem, handy., wanted, januar, ang...\n",
       "80377    {tod, arzt, yougov, sich, ein, wissen,, über, ...\n",
       "80378    {wirken, zentralmatura, zusammenhang, aber, et...\n",
       "80379    {richard, weltmacht, dreiviertelstunde, 1980, ...\n",
       "80380    {zudem, politik, sich, ein, ereignisse:, gründ...\n",
       "Name: words, Length: 79771, dtype: object"
      ]
     },
     "execution_count": 18,
     "metadata": {},
     "output_type": "execute_result"
    }
   ],
   "source": [
    "df_clean[\"words\"]"
   ]
  },
  {
   "cell_type": "code",
   "execution_count": 22,
   "metadata": {},
   "outputs": [],
   "source": [
    "vocabulary = set.union(*(df_clean[\"words\"].tolist()))"
   ]
  },
  {
   "cell_type": "code",
   "execution_count": 23,
   "metadata": {},
   "outputs": [
    {
     "data": {
      "text/plain": [
       "1888780"
      ]
     },
     "execution_count": 23,
     "metadata": {},
     "output_type": "execute_result"
    }
   ],
   "source": [
    "len(vocabulary)"
   ]
  }
 ],
 "metadata": {
  "kernelspec": {
   "display_name": "Python 3 (ipykernel)",
   "language": "python",
   "name": "python3"
  },
  "language_info": {
   "codemirror_mode": {
    "name": "ipython",
    "version": 3
   },
   "file_extension": ".py",
   "mimetype": "text/x-python",
   "name": "python",
   "nbconvert_exporter": "python",
   "pygments_lexer": "ipython3",
   "version": "3.8.5"
  }
 },
 "nbformat": 4,
 "nbformat_minor": 4
}
