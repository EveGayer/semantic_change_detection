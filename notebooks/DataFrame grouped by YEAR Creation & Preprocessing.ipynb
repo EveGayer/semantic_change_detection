{
 "cells": [
  {
   "cell_type": "markdown",
   "id": "ec5b58c8-ef8d-416d-ae7e-e0911d85962a",
   "metadata": {},
   "source": [
    "# DataFrame grouped by YEAR Creation & Preprocessing (leaving punctuation)"
   ]
  },
  {
   "cell_type": "markdown",
   "id": "c2c697a6-d060-4d2f-a6a0-e122a548feda",
   "metadata": {},
   "source": [
    "<br>"
   ]
  },
  {
   "cell_type": "code",
   "execution_count": 13,
   "id": "dbf0db6e-e635-40ee-82d7-999550f1ed21",
   "metadata": {},
   "outputs": [],
   "source": [
    "import pandas as pd\n",
    "import numpy as np\n",
    "import os\n",
    "from pathlib import Path\n",
    "import glob\n",
    "import re\n",
    "import numpy as np"
   ]
  },
  {
   "cell_type": "code",
   "execution_count": 14,
   "id": "b7752c9c-590c-4cab-8185-02dc99d8238b",
   "metadata": {},
   "outputs": [
    {
     "data": {
      "text/html": [
       "<div>\n",
       "<style scoped>\n",
       "    .dataframe tbody tr th:only-of-type {\n",
       "        vertical-align: middle;\n",
       "    }\n",
       "\n",
       "    .dataframe tbody tr th {\n",
       "        vertical-align: top;\n",
       "    }\n",
       "\n",
       "    .dataframe thead th {\n",
       "        text-align: right;\n",
       "    }\n",
       "</style>\n",
       "<table border=\"1\" class=\"dataframe\">\n",
       "  <thead>\n",
       "    <tr style=\"text-align: right;\">\n",
       "      <th></th>\n",
       "      <th>text</th>\n",
       "      <th>title</th>\n",
       "      <th>year</th>\n",
       "      <th>number</th>\n",
       "    </tr>\n",
       "  </thead>\n",
       "  <tbody>\n",
       "    <tr>\n",
       "      <th>0</th>\n",
       "      <td>Es waren kaum zwei Wochen nach dem Tod Friedri...</td>\n",
       "      <td>100_Jahre_Hamburg-Berlin</td>\n",
       "      <td>1946.0</td>\n",
       "      <td>nr1199</td>\n",
       "    </tr>\n",
       "    <tr>\n",
       "      <th>1</th>\n",
       "      <td>Aufstellungen über Welternte, Weltbedarf und W...</td>\n",
       "      <td>1800_Kalorien...</td>\n",
       "      <td>1946.0</td>\n",
       "      <td>nr5674</td>\n",
       "    </tr>\n",
       "    <tr>\n",
       "      <th>2</th>\n",
       "      <td>Die gegenwärtige Industrieproduktion in der am...</td>\n",
       "      <td>20_v._H._Kapazitätsausnutzung</td>\n",
       "      <td>1946.0</td>\n",
       "      <td>nr6365</td>\n",
       "    </tr>\n",
       "    <tr>\n",
       "      <th>3</th>\n",
       "      <td>Die Potsdamer. Beschlüsse der Sieger haben das...</td>\n",
       "      <td>74_Millionen_in_4_Zonen</td>\n",
       "      <td>1946.0</td>\n",
       "      <td>nr2437</td>\n",
       "    </tr>\n",
       "    <tr>\n",
       "      <th>4</th>\n",
       "      <td>Weltgrund Einsamkeiten,\\n\\nBin wieder bei euch...</td>\n",
       "      <td>Abendlied_im_Wald</td>\n",
       "      <td>1946.0</td>\n",
       "      <td>nr747</td>\n",
       "    </tr>\n",
       "    <tr>\n",
       "      <th>...</th>\n",
       "      <td>...</td>\n",
       "      <td>...</td>\n",
       "      <td>...</td>\n",
       "      <td>...</td>\n",
       "    </tr>\n",
       "    <tr>\n",
       "      <th>80376</th>\n",
       "      <td>In Kiew versuchen Polizeibeamte, in das Kranke...</td>\n",
       "      <td>Ärzte_schützten_Bulatow_vor_der_Polizei</td>\n",
       "      <td>2014.0</td>\n",
       "      <td>nr82</td>\n",
       "    </tr>\n",
       "    <tr>\n",
       "      <th>80377</th>\n",
       "      <td>Die Mehrheit der Deutschen befürwortet aktive ...</td>\n",
       "      <td>Ärzte_und_Kirche_gegen_aktive_Sterbehilfe</td>\n",
       "      <td>2014.0</td>\n",
       "      <td>nr1085</td>\n",
       "    </tr>\n",
       "    <tr>\n",
       "      <th>80378</th>\n",
       "      <td>Alarm beim Bundesheer. 46 Prozent der Rekruten...</td>\n",
       "      <td>Überfordert</td>\n",
       "      <td>2014.0</td>\n",
       "      <td>nr6081</td>\n",
       "    </tr>\n",
       "    <tr>\n",
       "      <th>80379</th>\n",
       "      <td>Am Sonntag wurde in Hamburg Helmut Schmidts 95...</td>\n",
       "      <td>Überheblichkeit_gegen_China_wäre_ein_Fehler</td>\n",
       "      <td>2014.0</td>\n",
       "      <td>nr2347</td>\n",
       "    </tr>\n",
       "    <tr>\n",
       "      <th>80380</th>\n",
       "      <td>Ausgerechnet Odessa. Eine weltoffene, tolerant...</td>\n",
       "      <td>Über_Nacht_kam_die_Angst_nach_Odessa</td>\n",
       "      <td>2014.0</td>\n",
       "      <td>nr1123</td>\n",
       "    </tr>\n",
       "  </tbody>\n",
       "</table>\n",
       "<p>79771 rows × 4 columns</p>\n",
       "</div>"
      ],
      "text/plain": [
       "                                                    text  \\\n",
       "0      Es waren kaum zwei Wochen nach dem Tod Friedri...   \n",
       "1      Aufstellungen über Welternte, Weltbedarf und W...   \n",
       "2      Die gegenwärtige Industrieproduktion in der am...   \n",
       "3      Die Potsdamer. Beschlüsse der Sieger haben das...   \n",
       "4      Weltgrund Einsamkeiten,\\n\\nBin wieder bei euch...   \n",
       "...                                                  ...   \n",
       "80376  In Kiew versuchen Polizeibeamte, in das Kranke...   \n",
       "80377  Die Mehrheit der Deutschen befürwortet aktive ...   \n",
       "80378  Alarm beim Bundesheer. 46 Prozent der Rekruten...   \n",
       "80379  Am Sonntag wurde in Hamburg Helmut Schmidts 95...   \n",
       "80380  Ausgerechnet Odessa. Eine weltoffene, tolerant...   \n",
       "\n",
       "                                             title    year  number  \n",
       "0                         100_Jahre_Hamburg-Berlin  1946.0  nr1199  \n",
       "1                                 1800_Kalorien...  1946.0  nr5674  \n",
       "2                    20_v._H._Kapazitätsausnutzung  1946.0  nr6365  \n",
       "3                          74_Millionen_in_4_Zonen  1946.0  nr2437  \n",
       "4                                Abendlied_im_Wald  1946.0   nr747  \n",
       "...                                            ...     ...     ...  \n",
       "80376      Ärzte_schützten_Bulatow_vor_der_Polizei  2014.0    nr82  \n",
       "80377    Ärzte_und_Kirche_gegen_aktive_Sterbehilfe  2014.0  nr1085  \n",
       "80378                                  Überfordert  2014.0  nr6081  \n",
       "80379  Überheblichkeit_gegen_China_wäre_ein_Fehler  2014.0  nr2347  \n",
       "80380         Über_Nacht_kam_die_Angst_nach_Odessa  2014.0  nr1123  \n",
       "\n",
       "[79771 rows x 4 columns]"
      ]
     },
     "execution_count": 14,
     "metadata": {},
     "output_type": "execute_result"
    }
   ],
   "source": [
    "df_clean = pd.read_csv(\"dataframe_texts_clean.csv\", encoding=\"utf-8\", index_col=0)\n",
    "df_clean\n",
    "#df_clean is filled with only text with full existing meta data"
   ]
  },
  {
   "cell_type": "code",
   "execution_count": 15,
   "id": "fa6c5b4c-1a3b-4a6a-ace3-f9edef74ed3e",
   "metadata": {
    "collapsed": true,
    "jupyter": {
     "outputs_hidden": true
    },
    "tags": []
   },
   "outputs": [
    {
     "name": "stderr",
     "output_type": "stream",
     "text": [
      "C:\\Users\\vAudience\\AppData\\Local\\Temp\\ipykernel_14028\\4023380681.py:1: FutureWarning: The default value of regex will change from True to False in a future version.\n",
      "  df_clean[\"text\"] = df_clean[\"text\"].str.replace(r\"[^a-zA-ZäöüÄÖÜß\\s,\\.]+\", \"\")\n",
      "C:\\Users\\vAudience\\AppData\\Local\\Temp\\ipykernel_14028\\4023380681.py:2: FutureWarning: The default value of regex will change from True to False in a future version.\n",
      "  df_clean[\"text\"] = df_clean[\"text\"].str.replace(r\"\\n+\", \" \")\n"
     ]
    }
   ],
   "source": [
    "df_clean[\"text\"] = df_clean[\"text\"].str.replace(r\"[^a-zA-ZäöüÄÖÜß\\s,\\.]+\", \"\")\n",
    "df_clean[\"text\"] = df_clean[\"text\"].str.replace(r\"\\n+\", \" \")"
   ]
  },
  {
   "cell_type": "markdown",
   "id": "38b5ed9a-517d-4738-b650-566929eb3246",
   "metadata": {},
   "source": [
    "#### Punctuation is needed for creating contextual Word Embedgins with BERT later"
   ]
  },
  {
   "cell_type": "code",
   "execution_count": 16,
   "id": "eafd4b22-0338-4d80-a531-94d55a521887",
   "metadata": {},
   "outputs": [
    {
     "data": {
      "text/html": [
       "<div>\n",
       "<style scoped>\n",
       "    .dataframe tbody tr th:only-of-type {\n",
       "        vertical-align: middle;\n",
       "    }\n",
       "\n",
       "    .dataframe tbody tr th {\n",
       "        vertical-align: top;\n",
       "    }\n",
       "\n",
       "    .dataframe thead th {\n",
       "        text-align: right;\n",
       "    }\n",
       "</style>\n",
       "<table border=\"1\" class=\"dataframe\">\n",
       "  <thead>\n",
       "    <tr style=\"text-align: right;\">\n",
       "      <th></th>\n",
       "      <th>year</th>\n",
       "      <th>text</th>\n",
       "    </tr>\n",
       "  </thead>\n",
       "  <tbody>\n",
       "    <tr>\n",
       "      <th>0</th>\n",
       "      <td>1946.0</td>\n",
       "      <td>Es waren kaum zwei Wochen nach dem Tod Friedri...</td>\n",
       "    </tr>\n",
       "    <tr>\n",
       "      <th>1</th>\n",
       "      <td>1947.0</td>\n",
       "      <td>Ein Film nach einer Novelle von Stefan Zweig d...</td>\n",
       "    </tr>\n",
       "    <tr>\n",
       "      <th>2</th>\n",
       "      <td>1948.0</td>\n",
       "      <td>ProkofieffErstaufführung, Staatsoper Berlin Se...</td>\n",
       "    </tr>\n",
       "    <tr>\n",
       "      <th>3</th>\n",
       "      <td>1949.0</td>\n",
       "      <td>Von Erich Trunz Dämon Wie an dem Tag, der dich...</td>\n",
       "    </tr>\n",
       "    <tr>\n",
       "      <th>4</th>\n",
       "      <td>1950.0</td>\n",
       "      <td>Daß manchen Kreisen Großbritanniens die Erfolg...</td>\n",
       "    </tr>\n",
       "    <tr>\n",
       "      <th>...</th>\n",
       "      <td>...</td>\n",
       "      <td>...</td>\n",
       "    </tr>\n",
       "    <tr>\n",
       "      <th>64</th>\n",
       "      <td>2010.0</td>\n",
       "      <td>Puh, ganz schön hart, die Urteile zur ersten Z...</td>\n",
       "    </tr>\n",
       "    <tr>\n",
       "      <th>65</th>\n",
       "      <td>2011.0</td>\n",
       "      <td>Die Bundesregierung erwägt, die Familienangehö...</td>\n",
       "    </tr>\n",
       "    <tr>\n",
       "      <th>66</th>\n",
       "      <td>2012.0</td>\n",
       "      <td>Die Auslandseinsätze der Bundeswehr haben im v...</td>\n",
       "    </tr>\n",
       "    <tr>\n",
       "      <th>67</th>\n",
       "      <td>2013.0</td>\n",
       "      <td>Die Weltgemeinschaft stellt , Milliarden Dolla...</td>\n",
       "    </tr>\n",
       "    <tr>\n",
       "      <th>68</th>\n",
       "      <td>2014.0</td>\n",
       "      <td>Bei der Parlamentswahl in Nordkorea hat die Pa...</td>\n",
       "    </tr>\n",
       "  </tbody>\n",
       "</table>\n",
       "<p>69 rows × 2 columns</p>\n",
       "</div>"
      ],
      "text/plain": [
       "      year                                               text\n",
       "0   1946.0  Es waren kaum zwei Wochen nach dem Tod Friedri...\n",
       "1   1947.0  Ein Film nach einer Novelle von Stefan Zweig d...\n",
       "2   1948.0  ProkofieffErstaufführung, Staatsoper Berlin Se...\n",
       "3   1949.0  Von Erich Trunz Dämon Wie an dem Tag, der dich...\n",
       "4   1950.0  Daß manchen Kreisen Großbritanniens die Erfolg...\n",
       "..     ...                                                ...\n",
       "64  2010.0  Puh, ganz schön hart, die Urteile zur ersten Z...\n",
       "65  2011.0  Die Bundesregierung erwägt, die Familienangehö...\n",
       "66  2012.0  Die Auslandseinsätze der Bundeswehr haben im v...\n",
       "67  2013.0  Die Weltgemeinschaft stellt , Milliarden Dolla...\n",
       "68  2014.0  Bei der Parlamentswahl in Nordkorea hat die Pa...\n",
       "\n",
       "[69 rows x 2 columns]"
      ]
     },
     "execution_count": 16,
     "metadata": {},
     "output_type": "execute_result"
    }
   ],
   "source": [
    "df_clean_years = df_clean.groupby([\"year\"], as_index=False).agg({\"text\": \" \".join})\n",
    "df_clean_years"
   ]
  },
  {
   "cell_type": "code",
   "execution_count": 17,
   "id": "39640d9e-c844-4ffc-8522-1dc9699404fd",
   "metadata": {},
   "outputs": [],
   "source": [
    "df_clean_years.to_csv(\"df_cleaned_with_punc_years.csv\", encoding = \"utf-8\")"
   ]
  }
 ],
 "metadata": {
  "kernelspec": {
   "display_name": "Python 3 (ipykernel)",
   "language": "python",
   "name": "python3"
  },
  "language_info": {
   "codemirror_mode": {
    "name": "ipython",
    "version": 3
   },
   "file_extension": ".py",
   "mimetype": "text/x-python",
   "name": "python",
   "nbconvert_exporter": "python",
   "pygments_lexer": "ipython3",
   "version": "3.8.5"
  }
 },
 "nbformat": 4,
 "nbformat_minor": 5
}
