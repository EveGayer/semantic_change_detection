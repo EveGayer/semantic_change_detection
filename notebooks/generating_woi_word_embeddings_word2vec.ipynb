{
 "cells": [
  {
   "cell_type": "markdown",
   "metadata": {},
   "source": [
    "## Generating pre-trained word embeddings for WOI with word2vec"
   ]
  },
  {
   "cell_type": "code",
   "execution_count": 1,
   "metadata": {},
   "outputs": [],
   "source": [
    "from sklearn.metrics.pairwise import cosine_similarity\n",
    "import pickle\n",
    "import numpy as np"
   ]
  },
  {
   "cell_type": "markdown",
   "metadata": {},
   "source": [
    "### Read word2vec format and produce word: vector map as dictionary\n"
   ]
  },
  {
   "cell_type": "code",
   "execution_count": 2,
   "metadata": {},
   "outputs": [],
   "source": [
    "#testing other version of code\n",
    "import mmap\n",
    "import numpy as np\n",
    "\n",
    "def read_word_vectors(filename):\n",
    "    with open(filename, 'r', encoding='utf-8') as f:\n",
    "        with mmap.mmap(f.fileno(), 0, access=mmap.ACCESS_READ) as m:\n",
    "            # Iterate over the lines of the file\n",
    "            for line in iter(m.readline, b''):\n",
    "                # Split the line into the word and the word vector\n",
    "                word, vec = line.decode().split(maxsplit=1)\n",
    "                # Convert the word vector to a NumPy array and yield it\n",
    "                yield word, np.fromstring(vec, sep=' ')\n",
    "\n",
    "# Use the generator to create a dictionary\n",
    "emb_map = {word: vec for word, vec in read_word_vectors(\"vectors_word2vec_de.txt\")}"
   ]
  },
  {
   "cell_type": "markdown",
   "metadata": {},
   "source": [
    "### Produce test vector"
   ]
  },
  {
   "cell_type": "code",
   "execution_count": 3,
   "metadata": {},
   "outputs": [],
   "source": [
    "test_vector = np.array(emb_map[\"b'umwelt'\"]) #[\"b'demokratie'\"], [\"b'populismus'\"]"
   ]
  },
  {
   "cell_type": "markdown",
   "metadata": {},
   "source": [
    "### Generate similariy matrix calculating the cos similarity between the test vector and all other word vectors"
   ]
  },
  {
   "cell_type": "code",
   "execution_count": 4,
   "metadata": {},
   "outputs": [],
   "source": [
    "def generate_sim_matrix(test_vector):\n",
    "    sim_matrix = []\n",
    "    for k, v in emb_map.items():\n",
    "        v = np.array(v)\n",
    "        sim_matrix.append((k, cosine_similarity(test_vector.reshape(1, -1), v.reshape(1, -1))))\n",
    "    sim_matrix.sort(key=lambda x: x[1], reverse=True)\n",
    "    return sim_matrix"
   ]
  },
  {
   "cell_type": "code",
   "execution_count": 5,
   "metadata": {},
   "outputs": [],
   "source": [
    "# sort most similar word vectors\n",
    "\n",
    "sim_matrix = generate_sim_matrix(test_vector)"
   ]
  },
  {
   "cell_type": "code",
   "execution_count": 6,
   "metadata": {
    "tags": []
   },
   "outputs": [
    {
     "data": {
      "text/plain": [
       "[(\"b'umwelt'\", array([[1.]])),\n",
       " (\"b'umweltschutz'\", array([[0.74999176]])),\n",
       " (\"b'klimaschutz'\", array([[0.70032432]])),\n",
       " (\"b'naturschutz'\", array([[0.67125974]])),\n",
       " (\"b'gesundheit'\", array([[0.67042043]])),\n",
       " (\"b'nachhaltigkeit'\", array([[0.66631933]])),\n",
       " (\"b'klimawandel'\", array([[0.65843577]])),\n",
       " (\"b'nachhaltige'\", array([[0.65502093]])),\n",
       " (\"b'natur'\", array([[0.63835597]])),\n",
       " (\"b'raumordnung'\", array([[0.63803572]])),\n",
       " (\"b'umweltpolitik'\", array([[0.63557845]])),\n",
       " (\"b'arbeitsschutz'\", array([[0.61883308]])),\n",
       " (\"b'energiewende'\", array([[0.61787225]])),\n",
       " (\"b'energiepolitik'\", array([[0.61762217]])),\n",
       " (\"b'\\\\xc3\\\\xb6kologische'\", array([[0.61610089]])),\n",
       " (\"b'soziales'\", array([[0.60977773]])),\n",
       " (\"b'tierschutz'\", array([[0.60484044]])),\n",
       " (\"b'bmu'\", array([[0.60274491]])),\n",
       " (\"b'mobilit\\\\xc3\\\\xa4t'\", array([[0.6019124]])),\n",
       " (\"b'gew\\\\xc3\\\\xa4sserschutz'\", array([[0.60137755]])),\n",
       " (\"b'raumplanung'\", array([[0.60009331]])),\n",
       " (\"b'umweltbundesamt'\", array([[0.59946164]])),\n",
       " (\"b'nachhaltiges'\", array([[0.59842229]])),\n",
       " (\"b'agrar'\", array([[0.59822956]])),\n",
       " (\"b'landnutzung'\", array([[0.59534036]])),\n",
       " (\"b'umweltfragen'\", array([[0.5934966]])),\n",
       " (\"b'datenschutz'\", array([[0.59348788]])),\n",
       " (\"b'bodenschutz'\", array([[0.59326835]])),\n",
       " (\"b'ressourcen'\", array([[0.5922937]])),\n",
       " (\"b'digitalisierung'\", array([[0.59084617]])),\n",
       " (\"b'risikobewertung'\", array([[0.58969588]])),\n",
       " (\"b'umweltbildung'\", array([[0.58914346]])),\n",
       " (\"b'landentwicklung'\", array([[0.58728344]])),\n",
       " (\"b'layers'\", array([[0.5870527]])),\n",
       " (\"b'teilkarten'\", array([[0.58695256]]))]"
      ]
     },
     "execution_count": 6,
     "metadata": {},
     "output_type": "execute_result"
    }
   ],
   "source": [
    "sim_matrix[:35]"
   ]
  },
  {
   "cell_type": "code",
   "execution_count": 8,
   "metadata": {},
   "outputs": [],
   "source": [
    "woi_umwelt = sim_matrix[:35]\n",
    "\n",
    "with open(\"woi_35_umwelt.txt\", \"w\") as output:\n",
    "    output.write(str(woi_umwelt))"
   ]
  }
 ],
 "metadata": {
  "kernelspec": {
   "display_name": "Python 3 (ipykernel)",
   "language": "python",
   "name": "python3"
  },
  "language_info": {
   "codemirror_mode": {
    "name": "ipython",
    "version": 3
   },
   "file_extension": ".py",
   "mimetype": "text/x-python",
   "name": "python",
   "nbconvert_exporter": "python",
   "pygments_lexer": "ipython3",
   "version": "3.8.5"
  }
 },
 "nbformat": 4,
 "nbformat_minor": 4
}
